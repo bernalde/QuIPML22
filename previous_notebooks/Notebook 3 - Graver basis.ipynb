{
 "metadata": {
  "language_info": {
   "codemirror_mode": {
    "name": "ipython",
    "version": 3
   },
   "file_extension": ".py",
   "mimetype": "text/x-python",
   "name": "python",
   "nbconvert_exporter": "python",
   "pygments_lexer": "ipython3",
   "version": "3.7.7-final"
  },
  "orig_nbformat": 2,
  "kernelspec": {
   "name": "python_defaultSpec_1600035702856",
   "display_name": "Python 3.7.7 64-bit ('xomibm': conda)"
  }
 },
 "nbformat": 4,
 "nbformat_minor": 2,
 "cells": [
  {
   "cell_type": "markdown",
   "source": [
    "# Quantum Integer Programming and Quantum Machine Learning 47-779/785, Tepper School of Business.\r\n",
    "# Introduction to Quantum Computing 18-819F, Electrical and Computers Engineering.\r\n",
    "# Fall 2021, Carnegie Mellon University"
   ],
   "metadata": {}
  },
  {
   "cell_type": "markdown",
   "source": [
    "This notebook contains material from the Quantum Integer Programming and Quantum Machine Learning Course at CMU Fall 2021 by David Bernal (bernalde at cmu.edu), Sridhar Tayur (stayur at cmu.edu), Elias Towe (towe at cmu.edu), and Davide Venturelli; the content is available on **[Github](https://github.com/bernalde/QuIPML)**.\r\n",
    "The text is released under the **[CC-BY-NC-ND-4.0](https://creativecommons.org/licenses/by-nc-nd/4.0/legalcode) license, and code is released under the **[MIT license](https://opensource.org/licenses/MIT).*\r\n",
    "\r\n",
    "This notebook makes simple computations of Graver basis. Because of the complexity of these computation, we suggest that for more complicated problems you install the excellent **[4ti2](https://4ti2.github.io/)** software, an open-source implementation of several routines useful for the study of integer programming through algebraic geometry. It can be used as a stand-alone library and call it from C++ or from Python. In python, there are two ways of accessing it, either through **[Sage](https://www.sagemath.org/)** (which is an open-source mathematics software) or directly compiling it and installing a thing **[Python wrapper](https://github.com/alfsan/Py4ti2)**\r\n",
    "\r\n",
    "Run in **[Google Colab](https://colab.research.google.com/github/bernalde/QuIP/blob/master/notebooks/Notebook%203%20-%20Graver%20basis.ipynb)**"
   ],
   "metadata": {}
  },
  {
   "cell_type": "markdown",
   "source": [
    "## Introduction to Graver basis computation\n",
    "In this notebook, we will be covering the computation of Graver basis, which are defined as\n",
    "$$\n",
    "\\mathcal{G}(\\mathbf{A}) = \\bigcup_j \\mathcal{H}_j(\\mathbf{A})\n",
    "$$\n",
    "where $\\mathcal{H}_j(\\mathbf{A})$ are the minimal Hilbert basis of $\\mathbf{A}$ in each orthant.\n",
    "\n",
    "The Graver basis relate to the Groebner basis we saw in the previous lecture in the sense that they contain the Universal Groebner basis (union over all the possible objective functions)\n",
    "$$\n",
    "\\mathcal{U}(\\mathbf{A}) = \\bigcup_{c\\in\\mathbb{Z}^n} \\mathcal{B}(\\mathbf{A},\\mathbf{c})  \\subseteq \\mathcal{G}(\\mathbf{A})\n",
    "$$"
   ],
   "metadata": {}
  },
  {
   "cell_type": "code",
   "execution_count": 1,
   "source": [
    "from sympy import *\r\n",
    "import matplotlib.pyplot as plt\r\n",
    "import numpy as np\r\n",
    "from typing import Callable\r\n",
    "import itertools\r\n",
    "import random"
   ],
   "outputs": [],
   "metadata": {}
  },
  {
   "cell_type": "markdown",
   "source": [
    "Let's first define certain functions that help us write down the Toric ideal of a matrix $\\mathbf{A}$."
   ],
   "metadata": {}
  },
  {
   "cell_type": "code",
   "execution_count": 2,
   "source": [
    "def to_polynomial(coef,vars):\r\n",
    "    '''\r\n",
    "    Function to define a single column of the coefficient as a polynomial\r\n",
    "    '''\r\n",
    "    res1 = 1\r\n",
    "    res2 = 1\r\n",
    "    for i in range(len(coef)):\r\n",
    "        if coef[i] >= 0:\r\n",
    "            res1 = res1*vars[i]**coef[i]\r\n",
    "        else:\r\n",
    "            res2 = res2*vars[i]**(-coef[i])\r\n",
    "    res = res1 - res2\r\n",
    "    return res"
   ],
   "outputs": [],
   "metadata": {}
  },
  {
   "cell_type": "code",
   "execution_count": 3,
   "source": [
    "def polynomial_ideal(A):\r\n",
    "    '''\r\n",
    "    Function to define a the polynomial ideal of a matrix A according to Conti and Traverso\r\n",
    "    '''\r\n",
    "    IA = A.col_insert(0, eye(A.shape[0]))\r\n",
    "    # Find nullspace (kernel) of A\r\n",
    "    ker = IA.nullspace()\r\n",
    "\r\n",
    "    # Normalize elements of kernel to be integers\r\n",
    "    for i in range(len(ker)):\r\n",
    "        rationalvector = True\r\n",
    "        while rationalvector:\r\n",
    "            factor = 1\r\n",
    "            for j in ker[i]:\r\n",
    "                if j%1 != 0:\r\n",
    "                    factor = min(factor,j%1)\r\n",
    "            if factor == 1:\r\n",
    "                rationalvector = False\r\n",
    "            else:\r\n",
    "                ker[i]=ker[i] / factor\r\n",
    "    \r\n",
    "    # Define symbolic variables zs for each row (index 0 in Python)\r\n",
    "    sym_str_z = 'z:' + str(A.shape[0])\r\n",
    "    zs = symbols(sym_str_z)\r\n",
    "\r\n",
    "    # Define symbolic variables ws for each column (index 0 in Python)\r\n",
    "    sym_str_w = 'w:' + str(A.shape[1])\r\n",
    "    ws = symbols(sym_str_w)\r\n",
    "\r\n",
    "    vars = zs + ws\r\n",
    "\r\n",
    "    sys = []\r\n",
    "    for k in ker:\r\n",
    "        sys.append(to_polynomial(k,vars))\r\n",
    "\r\n",
    "\r\n",
    "    vars = ws + zs\r\n",
    "    \r\n",
    "    return(sys, vars)"
   ],
   "outputs": [],
   "metadata": {}
  },
  {
   "cell_type": "markdown",
   "source": [
    "First example, consider the same matrices as in the previous notebook\n",
    "$$\n",
    "4x_1 + 5x_2 + x_3 = 37 \\\\\n",
    "2x_1 + 3x_2 + x_4 = 20 \\\\\n",
    "\\mathbf{x} \\in \\mathbb{Z}_+^4\n",
    "$$\n"
   ],
   "metadata": {}
  },
  {
   "cell_type": "code",
   "execution_count": 4,
   "source": [
    "# A = np.array([[1, 0, 0, 1, 1, 1, 0, 1, 1, 1, 1],\n",
    "#             [0, 1, 0, 1, 0, 1, 1, 0, 1, 1, 1],\n",
    "#             [0, 0, 1, 0, 1, 0, 1, 1, 1, 1, 1]])\n",
    "A = np.array([[4,5,1,0], [2,3,0,1]])\n",
    "\n",
    "A = Matrix(A)\n",
    "\n",
    "IA, vars = polynomial_ideal(A)\n",
    "print(IA)\n",
    "print(vars)\n",
    "randvars = tuple(random.sample(vars, len(vars)))\n",
    "result = groebner(IA, vars, order='lex')\n",
    "print(result)"
   ],
   "outputs": [
    {
     "output_type": "stream",
     "name": "stdout",
     "text": [
      "[w0 - z0**4*z1**2, w1 - z0**5*z1**3, w2 - z0, w3 - z1]\n",
      "(w0, w1, w2, w3, z0, z1)\n",
      "GroebnerBasis([w0 - z0**4*z1**2, w1 - z0**5*z1**3, w2 - z0, w3 - z1], w0, w1, w2, w3, z0, z1, domain='ZZ', order='lex')\n"
     ]
    }
   ],
   "metadata": {
    "tags": []
   }
  },
  {
   "cell_type": "code",
   "execution_count": 5,
   "source": [
    "# reduced(vars[-3]*vars[-2]*vars[-1],result)\n",
    "reduced(vars[-2]**37*vars[-1]**20,result)"
   ],
   "outputs": [
    {
     "output_type": "execute_result",
     "data": {
      "text/plain": [
       "([-w0**8*z0*z1**2 - w0**7*z0**5*z1**4 - w0**6*z0**9*z1**6 - w0**5*z0**13*z1**8 - w0**4*z0**17*z1**10 - w0**3*z0**21*z1**12 - w0**2*z0**25*z1**14 - w0*z0**29*z1**16 - z0**33*z1**18,\n",
       "  0,\n",
       "  -w0**9*z1**2,\n",
       "  -w0**9*w2*w3 - w0**9*w2*z1],\n",
       " w0**9*w2*w3**2)"
      ]
     },
     "metadata": {},
     "execution_count": 5
    }
   ],
   "metadata": {}
  },
  {
   "cell_type": "code",
   "execution_count": 6,
   "source": [
    "def to_lawrence_polynomial(coef,xs,ys):\n",
    "    '''\n",
    "    Function to define a single column of the coefficient as a polynomial\n",
    "    '''\n",
    "    res1 = 1\n",
    "    res2 = 1\n",
    "    for i in range(len(coef)):\n",
    "        if coef[i] >= 0:\n",
    "            res1 = res1*xs[i]**coef[i]\n",
    "            res2 = res2*ys[i]**coef[i]\n",
    "        else:\n",
    "            res2 = res2*xs[i]**(-coef[i])\n",
    "            res1 = res1*ys[i]**(-coef[i])\n",
    "    res = res1 - res2\n",
    "    return res"
   ],
   "outputs": [],
   "metadata": {}
  },
  {
   "cell_type": "code",
   "execution_count": 7,
   "source": [
    "def lawrence_polynomial_ideal(A):\n",
    "    '''\n",
    "    Function to define a the polynomial ideal of the Lawrence lifting of matrix A\n",
    "    '''\n",
    "    # Find nullspace (kernel) of A\n",
    "    ker = A.nullspace()\n",
    "\n",
    "    # Normalize elements of kernel to be integers\n",
    "    for i in range(len(ker)):\n",
    "        rationalvector = True\n",
    "        while rationalvector:\n",
    "            factor = 1\n",
    "            for j in ker[i]:\n",
    "                if j%1 != 0:\n",
    "                    factor = min(factor,j%1)\n",
    "            if factor == 1:\n",
    "                rationalvector = False\n",
    "            else:\n",
    "                ker[i]=ker[i] / factor\n",
    "    \n",
    "    # Define symbolic variables zs for each row (index 0 in Python)\n",
    "    sym_str_x = 'x:' + str(A.shape[1])\n",
    "    xs = symbols(sym_str_x)\n",
    "\n",
    "    # Define symbolic variables ws for each column (index 0 in Python)\n",
    "    sym_str_y = 'y:' + str(A.shape[1])\n",
    "    ys = symbols(sym_str_y)\n",
    "\n",
    "    sys = []\n",
    "    for k in ker:\n",
    "        sys.append(to_lawrence_polynomial(k,xs,ys))\n",
    "    \n",
    "    return(sys, xs, ys)"
   ],
   "outputs": [],
   "metadata": {}
  },
  {
   "cell_type": "code",
   "execution_count": 8,
   "source": [
    "LA, xs, ys = lawrence_polynomial_ideal(A)\n",
    "print(\"Lawrence polynomial ideal\")\n",
    "print(LA)\n",
    "randvars = tuple(random.sample(xs + ys, len(xs + ys)))\n",
    "result_lawrence = groebner(LA, randvars, order='lex')\n",
    "grav = []\n",
    "for g in result_lawrence:\n",
    "    for y in ys:\n",
    "        g = g.subs({(y,1)})\n",
    "    grav.append(g)\n",
    "\n",
    "print(\"Reduced Graver (Groebner since we computed it with the Lawrence ideal) basis\")\n",
    "groebner(grav, xs, order='grevlex')"
   ],
   "outputs": [
    {
     "output_type": "stream",
     "name": "stdout",
     "text": [
      "Lawrence polynomial ideal\n",
      "[-x0**3*y1**2*y2**2 + x1**2*x2**2*y0**3, x0**5*x3**2*y1**4 - x1**4*y0**5*y3**2]\n",
      "Reduced Graver (Groebner since we computed it with the Lawrence ideal) basis\n"
     ]
    },
    {
     "output_type": "execute_result",
     "data": {
      "text/latex": [
       "$\\displaystyle GroebnerBasis\\left(\\left( x_{0}^{5} x_{3}^{2} - x_{1}^{4}, \\  - x_{0}^{3} + x_{1}^{2} x_{2}^{2}\\right), \\left( x_{0}, \\  x_{1}, \\  x_{2}, \\  x_{3}\\right)\\right)$"
      ],
      "text/plain": [
       "GroebnerBasis([x0**5*x3**2 - x1**4, x1**2*x2**2 - x0**3], x0, x1, x2, x3, domain='ZZ', order='grevlex')"
      ]
     },
     "metadata": {},
     "execution_count": 8
    }
   ],
   "metadata": {
    "tags": []
   }
  },
  {
   "cell_type": "markdown",
   "source": [
    "## Let's go back to the slides"
   ],
   "metadata": {}
  },
  {
   "cell_type": "code",
   "execution_count": 9,
   "source": [
    "# If using this on Google collab, if not we can import 4ti2\n",
    "try:\n",
    "  import google.colab\n",
    "  IN_COLAB = True\n",
    "except:\n",
    "  IN_COLAB = False\n",
    "\n",
    "# Let's start with Pyomo\n",
    "if not IN_COLAB:\n",
    "    from Py4ti2int32 import *"
   ],
   "outputs": [],
   "metadata": {}
  },
  {
   "cell_type": "code",
   "execution_count": 10,
   "source": [
    "# Define rules to choose augmentation element, either the best one (argmin) or the first one that is found\n",
    "def argmin(iterable):\n",
    "    return min(enumerate(iterable), key=lambda x: x[1])\n",
    "\n",
    "def greedy(iterable):\n",
    "    for i, val in enumerate(iterable):\n",
    "        if val[1] != 0:\n",
    "            return i, val\n",
    "    else:\n",
    "        return i, val"
   ],
   "outputs": [],
   "metadata": {
    "tags": []
   }
  },
  {
   "cell_type": "code",
   "execution_count": 11,
   "source": [
    "# Bisection rules for finding best step size\n",
    "def bisection(g: np.ndarray, fun: Callable, x: np.ndarray, x_lo: np.ndarray = None, x_up: np.ndarray = None, laststep: np.ndarray = None) -> (float, int):\n",
    "    if np.array_equal(g, laststep):\n",
    "        return (fun(x), 0)\n",
    "    if x_lo is None:\n",
    "        x_lo = np.zeros_like(x)\n",
    "    if x_up is None:\n",
    "        x_up = np.ones_like(x)*max(x)*2\n",
    "\n",
    "    u = max(x_up) - min(x_lo)\n",
    "    l = -(max(x_up) - min(x_lo))\n",
    "    for i, gi in enumerate(g):\n",
    "        if gi >= 1:\n",
    "            if np.floor((x_up[i] - x[i]) / gi) < u:\n",
    "                u = int(np.floor((x_up[i] - x[i]) / gi))\n",
    "            if np.ceil((x_lo[i] - x[i]) / gi) > l:\n",
    "                l = int(np.ceil((x_lo[i] - x[i]) / gi))\n",
    "        elif gi <= -1:\n",
    "            if np.ceil((x_up[i] - x[i]) / gi) > l:\n",
    "                l = int(np.ceil((x_up[i] - x[i]) / gi))\n",
    "            if np.floor((x_lo[i] - x[i]) / gi) < u:\n",
    "                u = int(np.floor((x_lo[i] - x[i]) / gi))\n",
    "    alpha = u\n",
    "\n",
    "    while u - l > 1:\n",
    "        if fun(x + l*g) < fun(x + u*g):\n",
    "            alpha = l\n",
    "        else:\n",
    "            alpha = u\n",
    "        p1 = int(np.floor((l+u)/2) - 1)\n",
    "        p2 = int(np.floor((l+u)/2))\n",
    "        p3 = int(np.floor((l+u)/2) + 1)\n",
    "        if fun(x + p1*g) < fun(x + p2*g):\n",
    "            u = int(np.floor((l+u)/2))\n",
    "        elif fun(x + p3*g) < fun(x + p2*g):\n",
    "            l = int(np.floor((l+u)/2) + 1)\n",
    "        else:\n",
    "            alpha = p2\n",
    "            break\n",
    "\n",
    "    if fun(x + l*g) < fun(x + u*g) and fun(x + l*g) < fun(x + alpha*g):\n",
    "        alpha = l\n",
    "    elif fun(x + u*g) < fun(x + alpha*g):\n",
    "        alpha = u\n",
    "\n",
    "    return (fun(x + alpha*g), alpha)"
   ],
   "outputs": [],
   "metadata": {}
  },
  {
   "cell_type": "code",
   "execution_count": 12,
   "source": [
    "# We can just have a single step move (works well with greedy approach)\n",
    "def single_move(g: np.ndarray, fun: Callable, x: np.ndarray, x_lo: np.ndarray = None, x_up: np.ndarray = None, laststep: np.ndarray = None) -> (float, int):\n",
    "    if x_lo is None:\n",
    "        x_lo = np.zeros_like(x)\n",
    "    if x_up is None:\n",
    "        x_up = np.ones_like(x)*max(x)*2\n",
    "\n",
    "    alpha = 0\n",
    "\n",
    "    if (x + g <= x_up).all() and (x + g >= x_lo).all():\n",
    "        if fun(x + g) < fun(x):\n",
    "            alpha = 1\n",
    "    elif (x - g <= x_up).all() and (x - g >= x_lo).all():\n",
    "        if fun(x - g) < fun(x) and fun(x - g) < fun(x + g):\n",
    "            alpha = -1\n",
    "    \n",
    "    return (fun(x + alpha*g), alpha)"
   ],
   "outputs": [],
   "metadata": {}
  },
  {
   "cell_type": "code",
   "execution_count": 13,
   "source": [
    "EXAMPLE = 3\n",
    "\n",
    "# Each example defines a problem min f(x)=cx s.t. Ax=b, x_lo <= x <= x_up, x integer\n",
    "\n",
    "if EXAMPLE == 1:\n",
    "    # Fist example - Illustrative example Alghassi et al. Graver Bases via Quantum Annealing\n",
    "    # with application to non-linear integer programs\n",
    "    A = np.array([[1, 1, 1, 1], [1, 5, 10, 25]])\n",
    "    b = np.array([[21],[156]])\n",
    "    # Objective is to minimize distance to 5\n",
    "    x0 = np.array([1,15,3,2])\n",
    "    x_lo = np.zeros_like(x0)\n",
    "    x_up = 15*np.ones_like(x0)\n",
    "elif EXAMPLE == 2:\n",
    "    # Second example\n",
    "    A = np.array([[1, 1, 1, 1], [1, 2, 3, 4]])\n",
    "    b = np.array([[10], [21]])\n",
    "    c = np.array([0, 1, 0, 2])\n",
    "    x0 = np.array([1,8,0,1])\n",
    "    x_lo = np.zeros_like(x0)\n",
    "    x_up = 21*np.ones_like(x0)\n",
    "elif EXAMPLE == 3:\n",
    "    # Third example\n",
    "    A = np.array([[1, 1, 1, 1], [0, 1, 2, 3]])\n",
    "    b = np.array([[10],[15]])\n",
    "    c = np.array([1, 3, 14, 17])\n",
    "    x0 = np.array([3,0,6,1])\n",
    "    x_lo = np.zeros_like(x0)\n",
    "    x_up = 10*np.ones_like(x0)\n",
    "elif EXAMPLE == 4:\n",
    "    # Fourth example\n",
    "    A = np.array([[1,1,1,1,1,1,1,1,1,1,0,1,0,1,0,1,0,1,1,1,0,1,0,1,0],\n",
    "    [1,1,1,1,0,1,0,1,0,0,1,0,0,0,1,0,0,1,0,1,1,1,1,1,1],\n",
    "    [0,1,0,0,0,1,0,1,0,1,1,0,1,1,0,1,1,0,0,1,0,0,1,1,1],\n",
    "    [0,0,0,0,0,0,0,1,0,1,1,1,0,1,1,1,1,0,0,1,0,0,0,0,0],\n",
    "    [0,1,1,1,1,1,0,0,0,1,0,0,0,1,0,0,0,0,0,1,0,1,0,1,0]])\n",
    "    b = np.array([[9], [8], [7], [5], [5]])\n",
    "    # Objective is quadratic expression\n",
    "    x0 = np.array([1, 1, 1, 1, -1, 1, 1, 1, 1, 1, 1, 1, -2,\n",
    "               1, 0, -1, 0, 1, -1, 1, -2, -2, 1, 1, 1])\n",
    "    x_lo = np.zeros_like(x0)\n",
    "    x_up = np.ones_like(x0)\n",
    "else:\n",
    "    print(\"Example not implemented\")\n",
    "\n",
    "if not IN_COLAB:\n",
    "    r = graver(\"mat\", A.tolist())\n",
    "else:\n",
    "    if EXAMPLE == 1:\n",
    "        # Taken from paper but the same as computed with 4ti2\n",
    "        r = [[5, -6, 0, 1], [5, -9, 4, 0], [0, 3, -4, 1], [5, -3, -4, 2], [5, 0, -8, 3]]\n",
    "    elif EXAMPLE == 2:\n",
    "        r = [[1, -2, 1, 0], [2, -3, 0, 1], [1, -1, -1, 1], [0, 1, -2, 1], [1, 0, -3, 2]]\n",
    "    elif EXAMPLE == 3:\n",
    "        r = [[2, -3, 0, 1], [1, -2, 1, 0], [1, -1, -1, 1], [0, 1, -2, 1], [1, 0, -3, 2]]\n",
    "    elif EXAMPLE == 4:\n",
    "        print(\"The Graver basis has 29789 elements in this case\")\n",
    "    else:\n",
    "        print(\"Example not implemented\")\n",
    "\n",
    "r = np.array(r)"
   ],
   "outputs": [],
   "metadata": {
    "tags": []
   }
  },
  {
   "cell_type": "code",
   "execution_count": 14,
   "source": [
    "# Objective function definition\n",
    "def f(x):\n",
    "    if EXAMPLE == 1:\n",
    "        return np.sum(np.abs(x - 5))\n",
    "    elif EXAMPLE == 4:\n",
    "        epsilon = 0.01\n",
    "        mu = np.random.rand(len(x0))\n",
    "        sigma = np.multiply(np.random.rand(len(x0)),mu)\n",
    "        return -np.dot(mu, x) + np.sqrt(((1-epsilon)/epsilon)*np.dot(sigma**2, x**2))\n",
    "    else:\n",
    "        return np.dot(c,x)\n",
    "\n",
    "# Constraints definition\n",
    "def const(x):\n",
    "    return np.array_equiv(np.dot(A,x),b.T) or np.array_equiv(np.dot(A,x),b)\n"
   ],
   "outputs": [],
   "metadata": {
    "tags": []
   }
  },
  {
   "cell_type": "code",
   "execution_count": 15,
   "source": [
    "# Let's perform the augmentation\n",
    "OPTION = 1 # Best augmentation, select using bisection rule\n",
    "# OPTION = 2 # Greedy augmentation, select using bisection rule\n",
    "# OPTION = 3 # Greedy augmentation, select using first found\n",
    "\n",
    "dist = 1\n",
    "gprev = None\n",
    "k = 1\n",
    "print(\"Initial point:\", x0)\n",
    "while dist != 0:\n",
    "    if OPTION == 1:\n",
    "        g1, (obj, dist) = argmin(\n",
    "            bisection(e, f, x0, laststep=gprev, x_lo=x_lo, x_up=x_up) for e in r)\n",
    "    elif OPTION == 2:\n",
    "        g1, (obj, dist) = greedy(\n",
    "            bisection(e, f, x0, laststep=gprev, x_lo=x_lo, x_up=x_up) for e in r)\n",
    "    elif OPTION == 3:    \n",
    "        g1, (obj, dist) = greedy(\n",
    "            single_move(e, f, x0, x_lo=x_lo, x_up=x_up) for e in r)\n",
    "    else:\n",
    "        print(\"Option not implemented\")\n",
    "        break\n",
    "    x0 = x0 + r[g1]*dist\n",
    "    gprev = r[g1]\n",
    "    print(\"Iteration \", k)\n",
    "    print(g1, (obj, dist))\n",
    "    print(\"Augmentation direction:\", gprev)\n",
    "    print(\"Distanced moved:\", dist)\n",
    "    print(\"Step taken:\", r[g1]*dist)\n",
    "    print(\"Objective function:\", obj)\n",
    "    print(\"Current point:\", x0)\n",
    "    print(\"Are constraints satisfied?\", const(x0))\n",
    "    k += 1"
   ],
   "outputs": [
    {
     "output_type": "stream",
     "name": "stdout",
     "text": [
      "Initial point: [3 0 6 1]\n",
      "Iteration  1\n",
      "1 (77, -3)\n",
      "Augmentation direction: [ 1 -2  1  0]\n",
      "Distanced moved: -3\n",
      "Step taken: [-3  6 -3  0]\n",
      "Objective function: 77\n",
      "Current point: [0 6 3 1]\n",
      "Are constraints satisfied? True\n",
      "Iteration  2\n",
      "3 (69, 1)\n",
      "Augmentation direction: [ 0  1 -2  1]\n",
      "Distanced moved: 1\n",
      "Step taken: [ 0  1 -2  1]\n",
      "Objective function: 69\n",
      "Current point: [0 7 1 2]\n",
      "Are constraints satisfied? True\n",
      "Iteration  3\n",
      "0 (69, 0)\n",
      "Augmentation direction: [ 2 -3  0  1]\n",
      "Distanced moved: 0\n",
      "Step taken: [0 0 0 0]\n",
      "Objective function: 69\n",
      "Current point: [0 7 1 2]\n",
      "Are constraints satisfied? True\n"
     ]
    }
   ],
   "metadata": {
    "tags": []
   }
  },
  {
   "cell_type": "code",
   "execution_count": null,
   "source": [],
   "outputs": [],
   "metadata": {}
  }
 ]
}