{
 "cells": [
  {
   "cell_type": "markdown",
   "metadata": {
    "slideshow": {
     "slide_type": "slide"
    }
   },
   "source": [
    "## Quantum Integer Programming and Quantum Machine Learning 47-779/785, Tepper School of Business.\n",
    "## Introduction to Quantum Computing 18-819F, Electrical and Computers Engineering.\n",
    "## Fall 2021, Carnegie Mellon University\n",
    "\n",
    "*IBM Quantum Challenge Fall 2021*\n",
    "\n",
    "Challenge 1: Optimizing your portfolio with quantum computers"
   ]
  },
  {
   "cell_type": "markdown",
   "metadata": {},
   "source": [
    "Run in **[Google Colab](https://colab.research.google.com/github/bernalde/QuIPML/blob/main/notebooks/Challenge%201%20-%20Optimizing%20your%20portfolio%20with%20quantum%20computers.ipynb)**"
   ]
  },
  {
   "cell_type": "markdown",
   "metadata": {},
   "source": [
    "## Introduction: What is portfolio optimization?\n",
    "Portfolio optimization is a crucial process for anyone who wants to maximize returns from their investments. \n",
    "Investments are usually a collection of so-called assets (stock, credits, bonds, derivatives, calls, puts, etc..) and this collection of assets is called a **portfolio**. \n",
    "<center><img src=\"resources/ex1-01.png\" width=\"270\"></center>\n",
    "The goal of portfolio optimization is to minimize risks (financial loss) and maximize returns (financial gain). But this process is not as simple as it may seem. Gaining high returns with little risk is indeed too good to be true. Risks and returns usually have a trade-off relationship which makes optmizing your portfolio a little more complicated. As Dr. Harry Markowitz states in his Modern Portfolio Theory he created in 1952,  \"risk is an inherrent part of higher reward.\""
   ]
  },
  {
   "cell_type": "markdown",
   "metadata": {},
   "source": [
    "**Modern Portfolio Theory (MPT)** <br>\n",
    "An investment theory based on the idea that investors are risk-averse, meaning that when given two portfolios that offer the same expected return they will prefer the less risky one. Investors can construct portfolios to maximize expected return based on a given level of market risk, emphasizing that risk is an inherent part of higher reward. It is one of the most important and influential economic theories dealing with finance and investment. Dr. Harry Markowitz created the modern portfolio theory (MPT) in 1952 and won the Nobel Prize in Economic Sciences in 1990 for it. <br><br>\n",
    "**Reference:** [<b>Modern Portfolio Theory<i>](https://en.wikipedia.org/wiki/Modern_portfolio_theory)"
   ]
  },
  {
   "cell_type": "markdown",
   "metadata": {},
   "source": [
    "## Challenge\n",
    "\n",
    "<div class=\"alert alert-block alert-success\">\n",
    "\n",
    "**Goal**\n",
    "\n",
    "Portfolio optimization is a crucial process for anyone who wants to maximize returns from their investments. In this first challenge, you will learn some of the basic theory behind portfolio optimization and how to formulate the problem so it can be solved by quantum computers. During the process, you will learn about Qiskit's Finance application class and methods to solve the problem efficiently.\n",
    "\n",
    "1. **Challenge 1a**: Learn how to use the PortfolioOptimization() method in Qiskit's Finance module to convert the portfolio optimization into a quadratic program.\n",
    "    \n",
    "2. **Challenge 1b**: Implement VQE to solve a four-stock portfolio optimization problem based on the instance created in challenge 1a.\n",
    "    \n",
    "    \n",
    "3. **Challenge 1c**: Solve the same problem using QAOA with three budgets and double weights for any of the assets in your portfolio. \n",
    "\n",
    "</div>\n",
    "<div class=\"alert alert-block alert-info\">\n",
    "\n",
    "Before you begin, we recommend watching the [**Qiskit Finance Demo Session with Julien Gacon**](https://youtu.be/UtMVoGXlz04?t=2022) and check out the corresponding [**demo notebook**](https://github.com/qiskit-community/qiskit-application-modules-demo-sessions/tree/main/qiskit-finance) to learn about Qiskit's Finance module and its appications in portfolio optimization.\n",
    "\n",
    "</div>"
   ]
  },
  {
   "cell_type": "markdown",
   "metadata": {
    "slideshow": {
     "slide_type": "slide"
    }
   },
   "source": [
    "## 1. Finding the efficient frontier\n",
    "The Modern portfolio theory (MPT) serves as a general framework to determine an ideal portfolio for investors.  The MPT is also referred to as mean-variance portfolio theory because it assumes that any investor will choose the optimal portfolio from the set of portfolios that\n",
    "- Maximizes expected return for a given level of risk; and\n",
    "- Minimizes risks for a given level of expected returns.\n",
    "\n",
    "The figure below shows the minimum variance frontier of modern portfolio theory where the horizontal axis shows the risk and the vertical axis shows expected return.  \n",
    "\n",
    "<center><img src=\"resources/ex1-02.png\" width=\"600\"></center>\n",
    "\n",
    "Consider a situation where you have two stocks to choose from: A and B. You can invest your entire wealth in one of these two stocks. Or you can invest 10% in A and 90% in B, or 20% in A and 80% in B, or 70% in A and 30% in B, etc ... There is a huge number of possible combinations and this is a simple case when considering two stocks. Imagine the different combinations you have to consider when you have thousands of stocks.\n",
    "\n",
    "The minimum variance frontier shows the minimum variance that can be achieved for a given level of expected return. To construct a minimum-variance frontier of a portfolio:\n",
    "\n",
    "- Use historical data to estimate the mean, variance of each individual stock in the portfolio, and the correlation of each pair of stocks.\n",
    "- Use a computer program to find out the weights of all stocks that minimize the portfolio variance for each pre-specified expected return.\n",
    "- Calculate the expected returns and variances for all the minimum variance portfolios determined in step 2 and then graph the two variables.\n",
    "\n",
    "Investors will never want to hold a portfolio below the minimum variance point. They will always get higher returns along the positively sloped part of the minimum-variance frontier. And the positively sloped part of the minimum-variance frontier is called the **efficient frontier**.\n",
    "\n",
    "The **efficient frontier** is where the optimal portfolios are. And it helps narrow down the different portfolios from which the investor may choose. \n"
   ]
  },
  {
   "cell_type": "markdown",
   "metadata": {
    "slideshow": {
     "slide_type": "slide"
    }
   },
   "source": [
    "## 2. Goal Of Our Exercise\n",
    "The goal of this exercise is to find the efficent frontier for an inherent risk using a quantum approach. We will use Qiskit's Finance application modules to convert our portfolio optimization problem into a quadratic program so we can then use variational quantum algorithms such as VQE and QAOA to solve our optimization problem. Let's first start by looking at the actual problem we have at hand. "
   ]
  },
  {
   "cell_type": "markdown",
   "metadata": {
    "slideshow": {
     "slide_type": "fragment"
    }
   },
   "source": [
    "## 3. Four-Stock Portfolio Optimization Problem\n",
    "\n",
    "Let us consider a portfolio optimization problem where you have a total of four assets (e.g. STOCK0, STOCK1, STOCK2, STOCK3) to choose from. Your goal is to find out a combination of two assets that will minimize the tradeoff between risk and return which is the same as finding the efficient frontier for the given risk. "
   ]
  },
  {
   "cell_type": "markdown",
   "metadata": {
    "slideshow": {
     "slide_type": "slide"
    }
   },
   "source": [
    "## 4. Formulation\n",
    "\n",
    "How can we formulate this problem?<br>\n",
    "The function which describes the efficient frontier can be formulated into a quadratic program with linear constraints as shown below. <br>\n",
    "The terms that are marked in red are associated with risks and the terms in blue are associated with returns.\n",
    "You can see that our goal is to minimize the tradeoff between risk and return. In general, the function we want to optimize is called an objective function. <br> <br>\n",
    "\n",
    "<div align=\"center\"> <font size=5em >$\\min_{x \\in \\{0, 1\\}^n}: $</font> <font color='red', size=5em >$q x^n\\Sigma x$</font> - <font color='blue', size=5em>$\\mu^n x$</font> </div>\n",
    "\n",
    "<div align=\"center\"> <font size=5em >$subject$</font> <font size=5em >$to: 1^n x = B$</font> </div>\n",
    "\n",
    "\n",
    "- <font size=4em >$x$</font> indicates asset allocation.\n",
    "- <font size=4em >$Σ$</font> (sigma) is a covariance matrix. \n",
    "A covariance matrix is a useful math concept that is widely applied in financial engineering. It is a statistical measure of how two asset prices are varying with respect to each other. When the covariance between two stocks is high, it means that one stock experiences heavy price movements and is volatile if the price of the other stock changes.\n",
    "- <font size=4em >$q$</font> is called a risk factor (risk tolerance), which is an evaluation of an individual's willingness or ability to take risks. For example, when you use the automated financial advising services, the so-called robo-advising, you will usually see different risk tolerance levels. This q value is the same as such and takes a value between 0 and 1. \n",
    "- <font size=4em >$𝝁$</font> (mu) is the expected return and is something we obviously want to maximize.\n",
    "- <font size=4em >$n$</font> is the number of different assets we can choose from\n",
    "- <font size=4em >$B$</font> stands for Budget.\n",
    "And budget in this context means the number of assets we can allocate in our portfolio. \n",
    "\n",
    "\n",
    "\n",
    "#### Goal:\n",
    "Our goal is to find the **x** value. The x value here indicates which asset to pick (𝑥[𝑖]=1) and which not to pick (𝑥[𝑖]=0). \n",
    "\n",
    "\n",
    "#### Assumptions:\n",
    "We assume the following simplifications:\n",
    "- all assets have the same price (normalized to 1),\n",
    "- the full budget $B$ has to be spent, i.e. one has to select exactly $B$ assets.\n",
    "- the equality constraint $1^n x = B$ is mapped to a penalty term $(1^n x - B)^2$ which is scaled by a parameter and subtracted from the objective function. \n"
   ]
  },
  {
   "cell_type": "markdown",
   "metadata": {
    "slideshow": {
     "slide_type": "slide"
    }
   },
   "source": [
    "## Step 1. Import necessary libraries"
   ]
  },
  {
   "cell_type": "code",
   "execution_count": 1,
   "metadata": {
    "ExecuteTime": {
     "end_time": "2020-07-13T20:35:05.710593Z",
     "start_time": "2020-07-13T20:34:57.647535Z"
    },
    "slideshow": {
     "slide_type": "fragment"
    }
   },
   "outputs": [],
   "source": [
    "#Let us begin by importing necessary libraries.\n",
    "from qiskit import Aer\n",
    "from qiskit.algorithms import VQE, QAOA, NumPyMinimumEigensolver\n",
    "from qiskit.algorithms.optimizers import *\n",
    "from qiskit.circuit.library import TwoLocal\n",
    "from qiskit.utils import QuantumInstance\n",
    "from qiskit.utils import algorithm_globals\n",
    "from qiskit_finance import QiskitFinanceError\n",
    "from qiskit_finance.applications.optimization import PortfolioOptimization\n",
    "from qiskit_finance.data_providers import *\n",
    "from qiskit_optimization.algorithms import MinimumEigenOptimizer \n",
    "from qiskit_optimization.applications import OptimizationApplication\n",
    "from qiskit_optimization.converters import QuadraticProgramToQubo\n",
    "import numpy as np\n",
    "import matplotlib.pyplot as plt\n",
    "%matplotlib inline\n",
    "import datetime\n",
    "import warnings\n",
    "from sympy.utilities.exceptions import SymPyDeprecationWarning\n",
    "warnings.simplefilter(\"ignore\", SymPyDeprecationWarning)"
   ]
  },
  {
   "cell_type": "markdown",
   "metadata": {
    "slideshow": {
     "slide_type": "slide"
    }
   },
   "source": [
    "## Step 2. Generate time series data (Financial Data)\n",
    "Let's first generate a random time series financial data for a total number of stocks n=4. We use RandomDataProvider for this. We are going back in time and retrieve financial data from November 5, 1955 to October 26, 1985."
   ]
  },
  {
   "cell_type": "code",
   "execution_count": 2,
   "metadata": {
    "ExecuteTime": {
     "end_time": "2020-07-13T20:35:15.224327Z",
     "start_time": "2020-07-13T20:35:15.213892Z"
    },
    "slideshow": {
     "slide_type": "fragment"
    }
   },
   "outputs": [],
   "source": [
    "# Set parameters for assets and risk factor\n",
    "num_assets = 4     # set number of assets to 4\n",
    "q = 0.5                   # set risk factor to 0.5\n",
    "budget = 2           # set budget as defined in the problem\n",
    "seed = 132     #set random seed\n",
    "\n",
    "# Generate time series data\n",
    "stocks = [(\"STOCK%s\" % i) for i in range(num_assets)]\n",
    "data = RandomDataProvider(tickers=stocks,\n",
    "                 start=datetime.datetime(1955,11,5),   \n",
    "                 end=datetime.datetime(1985,10,26),  \n",
    "                 seed=seed)\n",
    "data.run()"
   ]
  },
  {
   "cell_type": "code",
   "execution_count": 3,
   "metadata": {
    "slideshow": {
     "slide_type": "slide"
    }
   },
   "outputs": [
    {
     "data": {
      "image/png": "[encoded data removed]",
      "text/plain": [
       "<Figure size 432x288 with 1 Axes>"
      ]
     },
     "metadata": {
      "needs_background": "light"
     },
     "output_type": "display_data"
    }
   ],
   "source": [
    "# Let's plot our finanical data\n",
    "for (cnt, s) in enumerate(data._tickers):\n",
    "    plt.plot(data._data[cnt], label=s)\n",
    "plt.legend()\n",
    "plt.xticks(rotation=90)\n",
    "plt.xlabel('days')\n",
    "plt.ylabel('stock value')\n",
    "plt.show()"
   ]
  },
  {
   "cell_type": "markdown",
   "metadata": {
    "slideshow": {
     "slide_type": "slide"
    }
   },
   "source": [
    "<div id='problem'></div>\n",
    "<div class=\"alert alert-block alert-danger\">\n",
    "    \n",
    "**WARNING** Please do not change the start/end dates that are given to the RandomDataProvider in this challenge. Otherwise, your answers will not be graded properly.\n",
    "</div>"
   ]
  },
  {
   "cell_type": "markdown",
   "metadata": {
    "slideshow": {
     "slide_type": "slide"
    }
   },
   "source": [
    "## Step 3. Quadratic Program Formulation\n",
    "\n",
    "Let's generate the expected return first and then the covariance matrix which are both needed to create our portfolio."
   ]
  },
  {
   "cell_type": "markdown",
   "metadata": {
    "slideshow": {
     "slide_type": "fragment"
    }
   },
   "source": [
    "### Expected Return μ\n",
    "Expected return of a portfolio is the anticipated amount of returns that a portfolio may generate, making it the mean (average) of the portfolio's possible return distribution. \n",
    "For example, let's say stock A, B and C each weighted 50%, 20% and 30% respectively in the portfolio.  If the expected return for each stock was 15%, 6% and 9% respectively, the expected return of the portfolio would be:\n",
    "\n",
    "\n",
    "<div align=\"center\"> μ = (50% x 15%) + (20% x 6%) + (30% x 9%) = 11.4% </div>\n",
    "\n",
    "For the problem data we generated earlier, we can calculate the expected return over the 30 years period from 1955 to 1985 by using the following `get_period_return_mean_vector()` method which is provided by Qiskit's RandomDataProvider."
   ]
  },
  {
   "cell_type": "code",
   "execution_count": 4,
   "metadata": {
    "slideshow": {
     "slide_type": "fragment"
    }
   },
   "outputs": [
    {
     "name": "stdout",
     "output_type": "stream",
     "text": [
      "[1.59702144e-04 4.76518943e-04 2.39123234e-04 9.85029012e-05]\n"
     ]
    }
   ],
   "source": [
    "#Let's calculate the expected return for our problem data\n",
    "\n",
    "mu = data.get_period_return_mean_vector()   # Returns a vector containing the mean value of each asset's expected return.\n",
    "\n",
    "print(mu)"
   ]
  },
  {
   "cell_type": "markdown",
   "metadata": {
    "slideshow": {
     "slide_type": "slide"
    }
   },
   "source": [
    "### Covariance Matrix Σ\n",
    "Covariance Σ is a statistical measure of how two asset's mean returns vary with respect to each other and helps us understand the amount of risk involved from an investment portfolio's perspective to make an informed decision about buying or selling stocks. \n",
    "\n",
    "If you have 'n' stocks in your porfolio, the size of the covariance matrix will be n x n.\n",
    "Let us plot the covariance marix for our 4 stock portfolio which will be a 4 x 4 matrix. "
   ]
  },
  {
   "cell_type": "code",
   "execution_count": 5,
   "metadata": {
    "slideshow": {
     "slide_type": "subslide"
    }
   },
   "outputs": [
    {
     "name": "stdout",
     "output_type": "stream",
     "text": [
      "[[ 4.88319903e-05 -1.07868619e-06 -2.12961489e-06  7.06600109e-07]\n",
      " [-1.07868619e-06  9.97360142e-04  3.51594354e-06  3.68715793e-07]\n",
      " [-2.12961489e-06  3.51594354e-06  2.87365468e-04  3.20819120e-06]\n",
      " [ 7.06600109e-07  3.68715793e-07  3.20819120e-06  1.92316728e-04]]\n"
     ]
    },
    {
     "data": {
      "image/png": "[encoded data removed]",
      "text/plain": [
       "<Figure size 432x288 with 2 Axes>"
      ]
     },
     "metadata": {
      "needs_background": "light"
     },
     "output_type": "display_data"
    }
   ],
   "source": [
    "# Let's plot our covariance matrix Σ（sigma）\n",
    "sigma = data.get_period_return_covariance_matrix() #Returns the covariance matrix of the four assets\n",
    "print(sigma)\n",
    "fig, ax = plt.subplots(1,1)\n",
    "im = plt.imshow(sigma, extent=[-1,1,-1,1])\n",
    "x_label_list = ['stock3', 'stock2', 'stock1', 'stock0']\n",
    "y_label_list = ['stock3', 'stock2', 'stock1', 'stock0']\n",
    "ax.set_xticks([-0.75,-0.25,0.25,0.75])\n",
    "ax.set_yticks([0.75,0.25,-0.25,-0.75])\n",
    "ax.set_xticklabels(x_label_list)\n",
    "ax.set_yticklabels(y_label_list)\n",
    "plt.colorbar()\n",
    "plt.clim(-0.000002, 0.00001)\n",
    "plt.show()"
   ]
  },
  {
   "cell_type": "markdown",
   "metadata": {
    "slideshow": {
     "slide_type": "subslide"
    }
   },
   "source": [
    "The left-to-right diagonal values (yellow boxes in the figure below) show the relation of a stock with 'itself'. And the off-diagonal values show the deviation of each stock's mean expected return with respect to each other.  A simple way to look at a covariance matrix is:\n",
    "\n",
    " - If two stocks increase and decrease simultaneously then the covariance value will be positive.\n",
    " - If one increases while the other decreases then the covariance will be negative.\n",
    "\n",
    "<center><img src= \"resources/ex1-05.png\" width=\"370\"></center>\n",
    "\n",
    "You may have heard the phrase \"Don't Put All Your Eggs in One Basket.\" If you invest in things that always move in the same direction, there will be a risk of losing all your money at the same time. Covariance matrix is a nice measure to help investors diversify their assets to reduce such risk. "
   ]
  },
  {
   "cell_type": "markdown",
   "metadata": {
    "slideshow": {
     "slide_type": "slide"
    }
   },
   "source": [
    "Now that we have all the values we need to build our portfolio for optimization, we will look into Qiskit's Finance application class that will help us contruct the quadratic program for our problem."
   ]
  },
  {
   "cell_type": "markdown",
   "metadata": {
    "slideshow": {
     "slide_type": "slide"
    }
   },
   "source": [
    "## Qiskit Finance application class\n",
    "\n",
    "In Qiskit, there is a dedicated [`PortfolioOptimization`](https://qiskit.org/documentation/finance/stubs/qiskit_finance.applications.PortfolioOptimization.html#qiskit_finance.applications.PortfolioOptimization) application to construct the quadratic program for portfolio optimizations.\n",
    "\n",
    "PortfolioOptimization class creates a porfolio instance by taking the following **five arguments** then converts the instance into a quadratic program.\n",
    "\n",
    "Arguments of the PortfolioOptimization class:\n",
    "- expected_returns\n",
    "- covariances\n",
    "- risk_factor\n",
    "- budget\n",
    "- bounds\n",
    "\n",
    "Once our portfolio instance is converted into a quadratic program, then we can use quantum variational algorithms suchs as Variational Quantum Eigensolver (VQE) or the Quantum Approximate Optimization Algorithm (QAOA) to find the optimal solution to our problem.<br>\n",
    "\n",
    "We already obtained expected_return and covariances from Step 3 and have risk factor and budget pre-defined. So, let's build our portfolio using the [`PortfolioOptimization`](https://qiskit.org/documentation/finance/stubs/qiskit_finance.applications.PortfolioOptimization.html#qiskit_finance.applications.PortfolioOptimization) class.\n"
   ]
  },
  {
   "cell_type": "markdown",
   "metadata": {
    "slideshow": {
     "slide_type": "slide"
    }
   },
   "source": [
    "## Challenge 1a: Create the portfolio instance using PortfolioOptimization class\n",
    "<div id='u-definition'></div>\n",
    "<div class=\"alert alert-block alert-success\">\n",
    "\n",
    "**Challenge 1a** <br>\n",
    "Complete the code to generate the portfolio instance using the [**PortfolioOptimization**](https://qiskit.org/documentation/finance/stubs/qiskit_finance.applications.PortfolioOptimization.html#qiskit_finance.applications.PortfolioOptimization) class. Make sure you use the **five arguments** and their values which were obtained in the previos steps and convert the instance into a quadratic program **qp**. \n",
    "</div>\n",
    "\n",
    "<div id='problem'></div>\n",
    "<div class=\"alert alert-block alert-info\">\n",
    "    \n",
    "**Note:** A binary list [1. 1. 0. 0.] indicates a portfolio consisting STOCK2 and STOCK3.\n",
    "    \n",
    "</div>"
   ]
  },
  {
   "cell_type": "code",
   "execution_count": 7,
   "metadata": {
    "ExecuteTime": {
     "end_time": "2020-07-13T20:35:15.231767Z",
     "start_time": "2020-07-13T20:35:15.226490Z"
    },
    "slideshow": {
     "slide_type": "fragment"
    }
   },
   "outputs": [
    {
     "name": "stdout",
     "output_type": "stream",
     "text": [
      "\\ This file has been generated by DOcplex\n",
      "\\ ENCODING=ISO-8859-1\n",
      "\\Problem name: Portfolio optimization\n",
      "\n",
      "Minimize\n",
      " obj: - 0.000159702144 x_0 - 0.000476518943 x_1 - 0.000239123234 x_2\n",
      "      - 0.000098502901 x_3 + [ 0.000048831990 x_0^2 - 0.000002157372 x_0*x_1\n",
      "      - 0.000004259230 x_0*x_2 + 0.000001413200 x_0*x_3 + 0.000997360142 x_1^2\n",
      "      + 0.000007031887 x_1*x_2 + 0.000000737432 x_1*x_3 + 0.000287365468 x_2^2\n",
      "      + 0.000006416382 x_2*x_3 + 0.000192316728 x_3^2 ]/2\n",
      "Subject To\n",
      " c0: x_0 + x_1 + x_2 + x_3 = 2\n",
      "\n",
      "Bounds\n",
      " 0 <= x_0 <= 1\n",
      " 0 <= x_1 <= 1\n",
      " 0 <= x_2 <= 1\n",
      " 0 <= x_3 <= 1\n",
      "\n",
      "Binaries\n",
      " x_0 x_1 x_2 x_3\n",
      "End\n",
      "\n"
     ]
    }
   ],
   "source": [
    "##############################\n",
    "\n",
    "# Provide your code here\n",
    "\n",
    "portfolio = PortfolioOptimization(mu, sigma, q, budget, bounds = None)\n",
    "qp = portfolio.to_quadratic_program()\n",
    "\n",
    "##############################\n",
    "print(qp)"
   ]
  },
  {
   "cell_type": "markdown",
   "metadata": {},
   "source": [
    "If you were able to successfully generate the code, you should see a standard representation of the formulation of our qudratic program. "
   ]
  },
  {
   "cell_type": "code",
   "execution_count": 8,
   "metadata": {},
   "outputs": [
    {
     "name": "stdout",
     "output_type": "stream",
     "text": [
      "Submitting your answer for 1a. Please wait...\n",
      "Congratulations 🎉! Your answer is correct and has been submitted.\n"
     ]
    }
   ],
   "source": [
    "# Check your answer and submit using the following code\n",
    "from qc_grader import grade_ex1a\n",
    "grade_ex1a(qp)"
   ]
  },
  {
   "cell_type": "markdown",
   "metadata": {},
   "source": [
    "## Minimum Eigen Optimizer\n",
    "\n",
    "Interestingly, our portfolio optimization problem can be solved as a ground state search of a Hamiltonian. You can think of a Hamiltonian as an energy function representing the total energy of a physical system we want to simulate such as a molecule or a magnet. The physical system can be further represented by a mathemetical model called an [**Ising model**](https://en.wikipedia.org/wiki/Ising_model) which gives us a framework to convert our binary variables into a so called spin up (+1) or spin down (-1) state. \n",
    "    \n",
    "When it comes to applyting the optimization algorithms, the algorithms usually require problems to satisfy certain criteria to be applicable. For example, variational algorithms such as VQE and QAOA can only be applied to [**Quadratic Unconstrained Binary Optimization (QUBO)**](https://en.wikipedia.org/wiki/Quadratic_unconstrained_binary_optimization) problems, thus Qiskit provides converters to automatically map optimization problems to these different formats whenever possible.\n",
    "\n",
    "<center><img src= \"resources/ex1-04.png\" width=\"700\"></center>\n",
    "\n",
    "Solving a QUBO is equivalent to finding a ground state of a Hamiltonian. And the Minimum Eigen Optimizer translates the Quadratic Program to a Hamiltonian, then calls a given Mimimum Eigensolver such as VQE or QAOA to compute the ground states and returns the optimization results for us.\n",
    "    \n",
    "This approach allows us to utilize computing ground states in the context of solving optimization problems as we will demonstrate in the next step in our challenge exercise."
   ]
  },
  {
   "cell_type": "markdown",
   "metadata": {},
   "source": [
    "## Step 5. Solve with classical optimizer as a reference\n",
    "Lets solve the problem. First classically...\n",
    "\n",
    "We can now use the Operator we built above without regard to the specifics of how it was created. We set the algorithm for the NumPyMinimumEigensolver so we can have a classical reference. Backend is not required since this is computed classically not using quantum computation. The result is returned as a dictionary."
   ]
  },
  {
   "cell_type": "code",
   "execution_count": 9,
   "metadata": {
    "ExecuteTime": {
     "end_time": "2020-07-13T20:35:15.264319Z",
     "start_time": "2020-07-13T20:35:15.245811Z"
    }
   },
   "outputs": [
    {
     "name": "stdout",
     "output_type": "stream",
     "text": [
      "optimal function value: -0.00023285626449450194\n",
      "optimal value: [1. 0. 1. 0.]\n",
      "status: SUCCESS\n"
     ]
    }
   ],
   "source": [
    "exact_mes = NumPyMinimumEigensolver()\n",
    "exact_eigensolver = MinimumEigenOptimizer(exact_mes)\n",
    "result = exact_eigensolver.solve(qp)\n",
    "\n",
    "print(result)"
   ]
  },
  {
   "cell_type": "markdown",
   "metadata": {},
   "source": [
    "The optimal value indicates your asset allocation. "
   ]
  },
  {
   "cell_type": "markdown",
   "metadata": {},
   "source": [
    "## Challenge1b: Solution using VQE\n",
    "\n",
    "**Variational Quantum Eigensolver (VQE)** is a classical-quantum hybrid algorithm which outsources some of the processing workload to a classical computer to efficiently calculate the ground state energy (lowest energy) of a [**Hamiltonian**](https://en.wikipedia.org/wiki/Hamiltonian_(quantum_mechanics)). As we discussed earlier, we can reformulate the quadratic program as a ground state energy search to be solved by [**VQE**](https://qiskit.org/documentation/stubs/qiskit.algorithms.VQE.html) where the ground state corresponds to the optimal solution we are looking for. In this challenge exercise, you will be asked to find the optimal solution using VQE.  <br> \n",
    "\n",
    "\n",
    "<div id='u-definition'></div>\n",
    "<div class=\"alert alert-block alert-success\">\n",
    "\n",
    "**Challenge 1b** <br>\n",
    "Find the same solution by using Variational Quantum Eigensolver (VQE) to solve the problem.　We will specify the optimizer and variational form to be used.\n",
    "</div>\n",
    "\n",
    "<div id='problem'></div>\n",
    "<div class=\"alert alert-block alert-info\">\n",
    "\n",
    "**HINT:** If you are stuck, check out [**this qiskit tutorial**](https://qiskit.org/documentation/finance/tutorials/01_portfolio_optimization.html) and adapt it to our problem: \n",
    "    \n",
    "</div>\n",
    "\n",
    "Below is some code to get you started. "
   ]
  },
  {
   "cell_type": "code",
   "execution_count": 10,
   "metadata": {
    "ExecuteTime": {
     "end_time": "2020-07-13T20:35:28.570970Z",
     "start_time": "2020-07-13T20:35:26.539093Z"
    },
    "scrolled": true
   },
   "outputs": [
    {
     "name": "stdout",
     "output_type": "stream",
     "text": [
      "optimal function value: -0.00023285626449450194\n",
      "optimal value: [1. 0. 1. 0.]\n",
      "status: SUCCESS\n"
     ]
    }
   ],
   "source": [
    "optimizer = SLSQP(maxiter=1000)  \n",
    "algorithm_globals.random_seed = 1234\n",
    "backend = Aer.get_backend('statevector_simulator')\n",
    "\n",
    "\n",
    "##############################\n",
    "# Provide your code here\n",
    "quantum_instance = QuantumInstance(backend=backend, seed_simulator=seed, seed_transpiler=seed)\n",
    "vqe = VQE(quantum_instance=quantum_instance)\n",
    "\n",
    "##############################\n",
    "\n",
    "vqe_meo = MinimumEigenOptimizer(vqe)  #please do not change this code\n",
    "\n",
    "result = vqe_meo.solve(qp)  #please do not change this code\n",
    "\n",
    "print(result)    #please do not change this code"
   ]
  },
  {
   "cell_type": "code",
   "execution_count": 11,
   "metadata": {},
   "outputs": [
    {
     "name": "stdout",
     "output_type": "stream",
     "text": [
      "Submitting your answer for 1b. Please wait...\n",
      "Congratulations 🎉! Your answer is correct and has been submitted.\n"
     ]
    }
   ],
   "source": [
    "# Check your answer and submit using the following code\n",
    "from qc_grader import grade_ex1b\n",
    "grade_ex1b(vqe, qp)"
   ]
  },
  {
   "cell_type": "markdown",
   "metadata": {},
   "source": [
    "VQE should give you the same optimal results as the reference solution."
   ]
  },
  {
   "cell_type": "markdown",
   "metadata": {},
   "source": [
    "## Challenge 1c: Portfolio optimization for B=3, n=4 stocks\n",
    "\n",
    "In this exercise, solve the same problem where one can allocate double weights (can allocate twice the amount) for a single asset.  (For example, if you allocate twice for STOCK3 one for STOCK2, then your portfolio can be represented as [2, 1, 0, 0]. If you allocate a single weight for STOCK0, STOCK1, STOCK2 then your portfolio will look like [0, 1, 1, 1]) <br>\n",
    "Furthermore, change the constraint to B=3.  With this new constraint, find the optimal portfolio that minimizes the tradeoff between risk and return.\n",
    "\n",
    "<div id='u-definition'></div>\n",
    "<div class=\"alert alert-block alert-success\">\n",
    "\n",
    "**Challenge 1c** <br>\n",
    "Complete the code to generate the portfolio instance using the PortfolioOptimization class. <br>\n",
    "Find the optimal portfolio for budget=3 where one can allocate double weights for a single asset.<br>\n",
    "Use QAOA to find your optimal solution and submit your answer.\n",
    "    \n",
    "</div>\n",
    "\n",
    "<div id='problem'></div>\n",
    "<div class=\"alert alert-block alert-info\">\n",
    "    \n",
    "**HINT:**  Remember that any one of STOCK0, STOCK1, STOCK2, STOCK3 can have double weights in our portfolio. How can we change our code to accommodate integer variables? <br>\n",
    "</div>"
   ]
  },
  {
   "cell_type": "markdown",
   "metadata": {},
   "source": [
    "## Step 1: Import necessary libraries"
   ]
  },
  {
   "cell_type": "code",
   "execution_count": 12,
   "metadata": {},
   "outputs": [],
   "source": [
    "#Step 1: Let us begin by importing necessary libraries\n",
    "import qiskit\n",
    "from qiskit import Aer\n",
    "from qiskit.algorithms import VQE, QAOA, NumPyMinimumEigensolver\n",
    "from qiskit.algorithms.optimizers import *\n",
    "from qiskit.circuit.library import TwoLocal\n",
    "from qiskit.utils import QuantumInstance\n",
    "from qiskit.utils import algorithm_globals\n",
    "from qiskit_finance import QiskitFinanceError\n",
    "from qiskit_finance.applications.optimization import *\n",
    "from qiskit_finance.data_providers import *\n",
    "from qiskit_optimization.algorithms import MinimumEigenOptimizer\n",
    "from qiskit_optimization.applications import OptimizationApplication\n",
    "from qiskit_optimization.converters import QuadraticProgramToQubo\n",
    "import numpy as np\n",
    "import matplotlib.pyplot as plt\n",
    "%matplotlib inline\n",
    "import datetime\n",
    "import warnings\n",
    "from sympy.utilities.exceptions import SymPyDeprecationWarning\n",
    "warnings.simplefilter(\"ignore\",SymPyDeprecationWarning)"
   ]
  },
  {
   "cell_type": "markdown",
   "metadata": {},
   "source": [
    "## Step 2: Generate Time Series Data (Financial Data)"
   ]
  },
  {
   "cell_type": "code",
   "execution_count": 13,
   "metadata": {},
   "outputs": [],
   "source": [
    "# Step 2. Generate time series data for four assets. \n",
    "# Do not change start/end dates specified to generate problem data.\n",
    "seed = 132 \n",
    "num_assets = 4\n",
    "stocks = [(\"STOCK%s\" % i) for i in range(num_assets)]\n",
    "data = RandomDataProvider(tickers=stocks,\n",
    "                 start=datetime.datetime(1955,11,5),   \n",
    "                 end=datetime.datetime(1985,10,26),  \n",
    "                 seed=seed)\n",
    "data.run()"
   ]
  },
  {
   "cell_type": "code",
   "execution_count": 14,
   "metadata": {},
   "outputs": [
    {
     "data": {
      "image/png": "[encoded data removed]",
      "text/plain": [
       "<Figure size 432x288 with 1 Axes>"
      ]
     },
     "metadata": {
      "needs_background": "light"
     },
     "output_type": "display_data"
    }
   ],
   "source": [
    "# Let's plot our finanical data (We are generating the same time series data as in the previous example.)\n",
    "for (cnt, s) in enumerate(data._tickers):\n",
    "    plt.plot(data._data[cnt], label=s)\n",
    "plt.legend()\n",
    "plt.xticks(rotation=90)\n",
    "plt.xlabel('days')\n",
    "plt.ylabel('stock value')\n",
    "plt.show()"
   ]
  },
  {
   "cell_type": "markdown",
   "metadata": {},
   "source": [
    "## Step 3: Calculate expected return mu and covariance sigma"
   ]
  },
  {
   "cell_type": "code",
   "execution_count": 15,
   "metadata": {},
   "outputs": [
    {
     "name": "stdout",
     "output_type": "stream",
     "text": [
      "[1.59702144e-04 4.76518943e-04 2.39123234e-04 9.85029012e-05] [[ 4.88319903e-05 -1.07868619e-06 -2.12961489e-06  7.06600109e-07]\n",
      " [-1.07868619e-06  9.97360142e-04  3.51594354e-06  3.68715793e-07]\n",
      " [-2.12961489e-06  3.51594354e-06  2.87365468e-04  3.20819120e-06]\n",
      " [ 7.06600109e-07  3.68715793e-07  3.20819120e-06  1.92316728e-04]]\n"
     ]
    }
   ],
   "source": [
    "# Step 3. Calculate mu and sigma for this problem\n",
    "\n",
    "mu2 = data.get_period_return_mean_vector()   #Returns a vector containing the mean value of each asset.\n",
    "sigma2 = data.get_period_return_covariance_matrix() #Returns the covariance matrix associated with the assets.\n",
    "print(mu2, sigma2)"
   ]
  },
  {
   "cell_type": "markdown",
   "metadata": {},
   "source": [
    "## Step 4: Set parameters and constraints based on this challenge 1c."
   ]
  },
  {
   "cell_type": "code",
   "execution_count": 16,
   "metadata": {},
   "outputs": [],
   "source": [
    "# Step 4. Set parameters and constraints based on this challenge 1c\n",
    "\n",
    "##############################\n",
    "# Provide your code here\n",
    "\n",
    "q2 = 0.5     #Set risk factor to 0.5\n",
    "budget2 = 3     #Set budget to 3\n",
    "\n",
    "##############################"
   ]
  },
  {
   "cell_type": "markdown",
   "metadata": {},
   "source": [
    "## Step 5: Complete code to generate the portfolio instance"
   ]
  },
  {
   "cell_type": "code",
   "execution_count": 39,
   "metadata": {},
   "outputs": [
    {
     "name": "stdout",
     "output_type": "stream",
     "text": [
      "\\ This file has been generated by DOcplex\n",
      "\\ ENCODING=ISO-8859-1\n",
      "\\Problem name: Portfolio optimization\n",
      "\n",
      "Minimize\n",
      " obj: - 0.000159702144 x_0 - 0.000476518943 x_1 - 0.000239123234 x_2\n",
      "      - 0.000098502901 x_3 + [ 0.000048831990 x_0^2 - 0.000002157372 x_0*x_1\n",
      "      - 0.000004259230 x_0*x_2 + 0.000001413200 x_0*x_3 + 0.000997360142 x_1^2\n",
      "      + 0.000007031887 x_1*x_2 + 0.000000737432 x_1*x_3 + 0.000287365468 x_2^2\n",
      "      + 0.000006416382 x_2*x_3 + 0.000192316728 x_3^2 ]/2\n",
      "Subject To\n",
      " c0: x_0 + x_1 + x_2 + x_3 = 3\n",
      "\n",
      "Bounds\n",
      "       x_0 <= 2\n",
      "       x_1 <= 2\n",
      "       x_2 <= 2\n",
      "       x_3 <= 2\n",
      "\n",
      "Generals\n",
      " x_0 x_1 x_2 x_3\n",
      "End\n",
      "\n"
     ]
    }
   ],
   "source": [
    "# Step 5. Complete code to generate the portfolio instance\n",
    "\n",
    "\n",
    "##############################\n",
    "# Provide your code here\n",
    "bounds_int = [(0, 2), (0, 2), (0, 2), (0, 2)]\n",
    "portfolio2 = PortfolioOptimization(mu2, sigma2, q2, budget2, bounds = bounds_int)\n",
    "qp2 = portfolio2.to_quadratic_program()\n",
    "\n",
    "##############################\n",
    "print(qp2)"
   ]
  },
  {
   "cell_type": "markdown",
   "metadata": {},
   "source": [
    "## Step 6: Let's solve the problem using QAOA\n",
    "\n",
    "**Quantum Approximate Optimization Algorithm (QAOA)** is another variational algorithm that has applications for solving combinatorial optimization problems on near-term quantum systems. This algorithm can also be used to calculate ground states of a Hamiltonian and can be easily implemented by using Qiskit's [**QAOA**](https://qiskit.org/documentation/stubs/qiskit.algorithms.QAOA.html) application. (You will get to learn about QAOA in detail in challenge 4. Let us first focus on the basic implementation of QAOA using Qiskit in this exercise.)\n"
   ]
  },
  {
   "cell_type": "code",
   "execution_count": 40,
   "metadata": {},
   "outputs": [
    {
     "name": "stdout",
     "output_type": "stream",
     "text": [
      "optimal function value: -0.00032144003832501437\n",
      "optimal value: [2. 0. 1. 0.]\n",
      "status: SUCCESS\n"
     ]
    }
   ],
   "source": [
    "# Step 6. Now let's use QAOA to solve this problem. \n",
    "\n",
    "optimizer = SLSQP(maxiter=1000)  \n",
    "algorithm_globals.random_seed = 1234\n",
    "backend = Aer.get_backend('statevector_simulator')\n",
    "\n",
    "##############################\n",
    "# Provide your code here\n",
    "quantum_instance = QuantumInstance(backend=backend, seed_simulator=seed, seed_transpiler=seed)\n",
    "qaoa = QAOA(quantum_instance=quantum_instance)\n",
    "\n",
    "##############################\n",
    "qaoa_meo = MinimumEigenOptimizer(qaoa) #please do not change this code\n",
    "\n",
    "result2 = qaoa_meo.solve(qp2)  #please do not change this code\n",
    "\n",
    "print(result2) #please do not change this code"
   ]
  },
  {
   "cell_type": "markdown",
   "metadata": {},
   "source": [
    "Note: The QAOA execution may take up to a few minutes to complete. "
   ]
  },
  {
   "cell_type": "markdown",
   "metadata": {},
   "source": [
    "# Submit your answer"
   ]
  },
  {
   "cell_type": "code",
   "execution_count": 41,
   "metadata": {},
   "outputs": [
    {
     "name": "stdout",
     "output_type": "stream",
     "text": [
      "Submitting your answer for 1c. Please wait...\n",
      "Congratulations 🎉! Your answer is correct and has been submitted.\n"
     ]
    }
   ],
   "source": [
    "# Check your answer and submit using the following code\n",
    "from qc_grader import grade_ex1c\n",
    "grade_ex1c(qaoa, qp2)"
   ]
  },
  {
   "cell_type": "markdown",
   "metadata": {},
   "source": [
    "### Further Reading:\n",
    "For those who have successfully solved the first introductory level challenge, **congratulations!** <br>\n",
    "I hope you were able to learn something about optimizing portfolios and how you can use Qiskit's Finance module to solve the example problem. <br> If you are interested in further reading, here are a few literature to explore:\n",
    "<br>\n",
    "1. [**Quantum optimization using variational algorithms on near-term quantum devices. Moll et al. 2017**](https://arxiv.org/abs/1710.01022)<br>\n",
    "2. [**Improving Variational Quantum Optimization using CVaR. Barkoutsos et al. 2019.**](https://arxiv.org/abs/1907.04769)<br>"
   ]
  },
  {
   "cell_type": "markdown",
   "metadata": {},
   "source": [
    "### Good luck and have fun with the challenge!"
   ]
  },
  {
   "cell_type": "markdown",
   "metadata": {},
   "source": [
    "## Additional information\n",
    "\n",
    "**Created by:** Yuri Kobayashi\n",
    "\n",
    "**Version:** 1.0.1"
   ]
  },
  {
   "cell_type": "code",
   "execution_count": null,
   "metadata": {},
   "outputs": [],
   "source": []
  }
 ],
 "metadata": {
  "kernelspec": {
   "display_name": "Qiskit v0.32.0 (ipykernel)",
   "language": "python",
   "name": "python3"
  },
  "language_info": {
   "codemirror_mode": {
    "name": "ipython",
    "version": 3
   },
   "file_extension": ".py",
   "mimetype": "text/x-python",
   "name": "python",
   "nbconvert_exporter": "python",
   "pygments_lexer": "ipython3",
   "version": "3.8.10"
  },
  "varInspector": {
   "cols": {
    "lenName": 16,
    "lenType": 16,
    "lenVar": 40
   },
   "kernels_config": {
    "python": {
     "delete_cmd_postfix": "",
     "delete_cmd_prefix": "del ",
     "library": "var_list.py",
     "varRefreshCmd": "print(var_dic_list())"
    },
    "r": {
     "delete_cmd_postfix": ") ",
     "delete_cmd_prefix": "rm(",
     "library": "var_list.r",
     "varRefreshCmd": "cat(var_dic_list()) "
    }
   },
   "types_to_exclude": [
    "module",
    "function",
    "builtin_function_or_method",
    "instance",
    "_Feature"
   ],
   "window_display": false
  },
  "widgets": {
   "application/vnd.jupyter.widget-state+json": {
    "state": {},
    "version_major": 2,
    "version_minor": 0
   }
  }
 },
 "nbformat": 4,
 "nbformat_minor": 4
}
