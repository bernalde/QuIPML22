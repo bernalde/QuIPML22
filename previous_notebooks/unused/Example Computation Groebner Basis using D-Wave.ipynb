{
 "cells": [
  {
   "cell_type": "code",
   "execution_count": 1,
   "metadata": {},
   "outputs": [],
   "source": [
    "from sympy import *\n",
    "from scipy import linalg\n",
    "import numpy as np"
   ]
  },
  {
   "cell_type": "code",
   "execution_count": 24,
   "metadata": {
    "tags": []
   },
   "outputs": [
    {
     "output_type": "stream",
     "name": "stdout",
     "text": "Matrix([[1, 1, 1, 1], [0, 1, 2, 3]])\n"
    }
   ],
   "source": [
    "# A = np.array([[4,5,1,0], [2,3,0,1]])\n",
    "A = np.array([[1,1,1,1], [0,1,2,3]])\n",
    "A = Matrix(A)\n",
    "print(A)"
   ]
  },
  {
   "cell_type": "code",
   "execution_count": 45,
   "metadata": {
    "tags": []
   },
   "outputs": [],
   "source": [
    "# Find nullspace (kernel) of A\n",
    "ker = A.nullspace()\n",
    "\n",
    "# Normalize elements of kernel to be integers\n",
    "for i in range(len(ker)):\n",
    "    factor = 1\n",
    "    for j in ker[i]:\n",
    "        if j%1 != 0:\n",
    "            factor = min(factor,j%1)\n",
    "    ker[i]=ker[i] / factor\n"
   ]
  },
  {
   "cell_type": "code",
   "execution_count": 26,
   "metadata": {},
   "outputs": [],
   "source": [
    "u, v = symbols('u v')"
   ]
  },
  {
   "cell_type": "code",
   "execution_count": 29,
   "metadata": {},
   "outputs": [],
   "source": [
    "# Define symbolic variables (index 0 in python but adjusted to match MAPLE)\n",
    "# sym_str = 'w:' + str(A.shape[1])\n",
    "sym_str = 'w1:' + str(A.shape[1]+1)\n",
    "ws = symbols(sym_str)"
   ]
  },
  {
   "cell_type": "code",
   "execution_count": 46,
   "metadata": {},
   "outputs": [],
   "source": [
    "def to_polynomial(coef,vars):\n",
    "    res1 = 1\n",
    "    res2 = 1\n",
    "    for i in range(len(coef)):\n",
    "        if coef[i] >= 0:\n",
    "            res1 = res1*vars[i]**coef[i]\n",
    "        else:\n",
    "            res2 = res2*vars[i]**(-coef[i])\n",
    "    res = res1 - res2\n",
    "    return res"
   ]
  },
  {
   "cell_type": "code",
   "execution_count": 47,
   "metadata": {
    "tags": []
   },
   "outputs": [
    {
     "output_type": "stream",
     "name": "stdout",
     "text": "[w1*w3 - w2**2, w1**2*w4 - w2**3]\n"
    }
   ],
   "source": [
    "sys = []\n",
    "for k in ker:\n",
    "    sys.append(to_polynomial(k,ws))\n",
    "print(sys)"
   ]
  },
  {
   "cell_type": "code",
   "execution_count": 51,
   "metadata": {},
   "outputs": [
    {
     "output_type": "execute_result",
     "data": {
      "text/plain": "[w2**4*w4 - w2**3*w3**2,\n w1*w2**2*w4 - w2**3*w3,\n w1**2*w4 - w2**3,\n w1*w3 - w2**2]"
     },
     "metadata": {},
     "execution_count": 51
    }
   ],
   "source": [
    "#Computing Groebner basis\n",
    "result = groebner(sys, ws[3], ws[2], ws[1], ws[0], order='lex')\n",
    "list(result)"
   ]
  },
  {
   "cell_type": "code",
   "execution_count": 52,
   "metadata": {},
   "outputs": [
    {
     "output_type": "execute_result",
     "data": {
      "text/plain": "[-w1**2*w2*w4 + w1**2*w3**2, -w1**2*w4 + w1*w2*w3, -w1*w3 + w2**2]"
     },
     "metadata": {},
     "execution_count": 52
    }
   ],
   "source": [
    "#Computing Groebner basis\n",
    "result = groebner(sys, ws[0], ws[1], ws[2], ws[3], order='grevlex')\n",
    "list(result)"
   ]
  },
  {
   "cell_type": "code",
   "execution_count": 53,
   "metadata": {},
   "outputs": [
    {
     "output_type": "execute_result",
     "data": {
      "text/plain": "[-w1**2*w2*w4 + w1**2*w3**2, -w1**2*w4 + w1*w2*w3, -w1*w3 + w2**2]"
     },
     "metadata": {},
     "execution_count": 53
    }
   ],
   "source": [
    "#Computing Groebner basis\n",
    "result = groebner(sys, ws[3], ws[2], ws[1], ws[0], order='grevlex')\n",
    "list(result)"
   ]
  },
  {
   "cell_type": "code",
   "execution_count": 50,
   "metadata": {
    "tags": []
   },
   "outputs": [
    {
     "output_type": "stream",
     "name": "stdout",
     "text": "<class 'sympy.core.symbol.Symbol'>\n"
    },
    {
     "output_type": "execute_result",
     "data": {
      "text/plain": "[w1**2*w4 - w2**3,\n w1*w2**2*w4 - w2**3*w3,\n w1*w3 - w2**2,\n w2**4*w4 - w2**3*w3**2]"
     },
     "metadata": {},
     "execution_count": 50
    }
   ],
   "source": [
    "#Computing Groebner basis\n",
    "print(type(ws[1]))\n",
    "aresult = groebner(sys, ws[0], ws[1], ws[2], ws[3], order='lex')\n",
    "list(aresult)"
   ]
  },
  {
   "cell_type": "code",
   "execution_count": 54,
   "metadata": {},
   "outputs": [],
   "source": [
    "def get_powers(polys,ws):\n",
    "    for w in ws:\n",
    "        list(map(lambda p: degree(p,w),polys))\n",
    "    # https://docs.sympy.org/latest/tutorial/simplification.html"
   ]
  },
  {
   "cell_type": "code",
   "execution_count": 55,
   "metadata": {
    "tags": []
   },
   "outputs": [
    {
     "output_type": "stream",
     "name": "stdout",
     "text": "[0, 1, 1, 2]\n"
    }
   ],
   "source": [
    "print(list(map(lambda p: degree(p,ws[2]),aresult)))"
   ]
  },
  {
   "cell_type": "code",
   "execution_count": 15,
   "metadata": {
    "tags": []
   },
   "outputs": [
    {
     "output_type": "stream",
     "name": "stdout",
     "text": "True\nsign(w1**2*w3**2*w4**2)\nTrue\n"
    }
   ],
   "source": [
    "print(-1 in aresult[1].args[0].args)\n",
    "print(sign(aresult[1].coeff(ws[1],2)))\n",
    "print((aresult[1].coeff(ws[1],4)) == -1)"
   ]
  },
  {
   "cell_type": "code",
   "execution_count": 126,
   "metadata": {
    "tags": []
   },
   "outputs": [],
   "source": [
    "def to_matrix(polynomials, vars):\n",
    "    mat = np.zeros([len(polynomials), len(vars)], dtype=int)\n",
    "    for k, poly in enumerate(polynomials):\n",
    "        F, opt = poly_from_expr(poly)\n",
    "        terms = F.terms(order=opt.order)\n",
    "        symbols = list(F.free_symbols)\n",
    "        position = {}\n",
    "        for j, w in enumerate(vars):\n",
    "            for i, symb in enumerate(symbols):\n",
    "                if symb == w:\n",
    "                    position[i] = j\n",
    "        for term in terms:\n",
    "            powers = term[0]\n",
    "            coeff = term[1]\n",
    "            if coeff >= 0:\n",
    "                for i, power in enumerate(powers):\n",
    "                    mat[position[i],k] += power\n",
    "            else:\n",
    "                for i, power in enumerate(powers):\n",
    "                    mat[position[i],k] -= power\n",
    "\n",
    "    return(Matrix(mat))\n",
    "    # for \n",
    "        "
   ]
  },
  {
   "cell_type": "code",
   "execution_count": 127,
   "metadata": {
    "tags": []
   },
   "outputs": [
    {
     "output_type": "execute_result",
     "data": {
      "text/plain": "Matrix([\n[ 2,  1,  1,  0],\n[-3, -1, -2, -2],\n[ 0,  1,  1,  1],\n[ 1, -1,  0,  1]])",
      "text/latex": "$\\displaystyle \\left[\\begin{matrix}2 & 1 & 1 & 0\\\\-3 & -1 & -2 & -2\\\\0 & 1 & 1 & 1\\\\1 & -1 & 0 & 1\\end{matrix}\\right]$"
     },
     "metadata": {},
     "execution_count": 127
    }
   ],
   "source": [
    "to_matrix(aresult,ws)"
   ]
  },
  {
   "cell_type": "code",
   "execution_count": null,
   "metadata": {},
   "outputs": [],
   "source": []
  }
 ],
 "metadata": {
  "kernelspec": {
   "display_name": "Python 3",
   "language": "python",
   "name": "python3"
  },
  "language_info": {
   "codemirror_mode": {
    "name": "ipython",
    "version": 3
   },
   "file_extension": ".py",
   "mimetype": "text/x-python",
   "name": "python",
   "nbconvert_exporter": "python",
   "pygments_lexer": "ipython3",
   "version": "3.7.7-final"
  }
 },
 "nbformat": 4,
 "nbformat_minor": 2
}